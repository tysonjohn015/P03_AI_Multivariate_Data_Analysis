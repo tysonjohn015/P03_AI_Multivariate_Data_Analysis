{
  "nbformat": 4,
  "nbformat_minor": 0,
  "metadata": {
    "celltoolbar": "Tags",
    "kernelspec": {
      "name": "python3",
      "display_name": "Python 3"
    },
    "toc": {
      "base_numbering": 1,
      "nav_menu": {},
      "number_sections": false,
      "sideBar": true,
      "skip_h1_title": false,
      "title_cell": "Table of Contents",
      "title_sidebar": "Contents",
      "toc_cell": false,
      "toc_position": {},
      "toc_section_display": true,
      "toc_window_display": false
    },
    "voila": {
      "template": "flex"
    },
    "colab": {
      "name": "P3_02_pageweb.ipynb",
      "provenance": [],
      "collapsed_sections": [
        "KQ93AIyi3RY3",
        "jq_qmEYy3RZM",
        "NG9oQcVq3RZs",
        "lHdEgofQ3RZ_"
      ],
      "include_colab_link": true
    },
    "language_info": {
      "name": "python"
    }
  },
  "cells": [
    {
      "cell_type": "markdown",
      "metadata": {
        "id": "view-in-github",
        "colab_type": "text"
      },
      "source": [
        "<a href=\"https://colab.research.google.com/github/tysonjohn015/openFood/blob/main/P3_02_pageweb.ipynb\" target=\"_parent\"><img src=\"https://colab.research.google.com/assets/colab-badge.svg\" alt=\"Open In Colab\"/></a>"
      ]
    },
    {
      "cell_type": "code",
      "metadata": {
        "id": "au_Wdgdj3RXz"
      },
      "source": [
        "# import itertools\n",
        "\n",
        "import pandas as pd\n",
        "import numpy as np\n",
        "\n",
        "import matplotlib.pyplot as plt\n",
        "import matplotlib.ticker as ticker\n",
        "import matplotlib.patches as mpatches\n",
        "import seaborn as sns\n",
        "\n",
        "import plotly.offline as pyo\n",
        "import plotly.express as px\n",
        "import plotly.graph_objs as go\n",
        "\n",
        "import scipy.stats as st\n",
        "from sklearn import decomposition\n",
        "from sklearn import preprocessing\n",
        "from sklearn.cluster import KMeans\n",
        "\n",
        "import ipywidgets as widgets\n",
        "from IPython.display import display, Markdown\n",
        "\n",
        "import missingno as msno\n",
        "from wordcloud import WordCloud\n",
        "\n",
        "from nltk.corpus import stopwords\n",
        "from IPython.display import HTML"
      ],
      "execution_count": null,
      "outputs": []
    },
    {
      "cell_type": "code",
      "metadata": {
        "id": "RSq-yl783RX4"
      },
      "source": [
        "# Initialisation des options d'affichage\n",
        "pd.set_option('display.max_columns', None)\n",
        "# pd.set_option('display.max_rows', None)\n",
        "# pd.set_option('display.max_colwidth', None)\n",
        "\n",
        "sns.set(font_scale=1.2)\n",
        "\n",
        "pyo.init_notebook_mode()"
      ],
      "execution_count": null,
      "outputs": []
    },
    {
      "cell_type": "code",
      "metadata": {
        "id": "Dh6eXdX63RYA"
      },
      "source": [
        "def print_md(text):\n",
        "    \"\"\"Affichage d'un text en Markdown\"\"\"\n",
        "    display(Markdown(text))\n",
        "\n",
        "def print_md_df_shape(df, df_origin=None):\n",
        "    \"\"\"\n",
        "    Affichage des dimension de l'échantillon.\n",
        "    Comparison avec l'échnatillon d'origine.\n",
        "    \"\"\"\n",
        "    \n",
        "    text = \"Dimensions de l'échantillon :\\n\"\n",
        "    \n",
        "    if df_origin is not None:\n",
        "        origin_rows_pct = int(df.shape[0] * 100 / df_origin.shape[0])\n",
        "        origin_cols_pct = int(df.shape[1] * 100 / df_origin.shape[1])\n",
        "        \n",
        "        text += f\"- **Nombre d'individus** : {df.shape[0]} ({origin_rows_pct}% du dataset complet)\\n\"\n",
        "        text += f\"- **Nombre de variables** : {df.shape[1]} ({origin_cols_pct}% du dataset complet)\\n\"\n",
        "    else:\n",
        "        text += f\"- **Nombre d'individus** : {df.shape[0]}\\n\"\n",
        "        text += f\"- **Nombre de variables** : {df.shape[1]}\\n\"\n",
        "\n",
        "    print_md(text)\n",
        "\n",
        "def get_cat_var_emp_dist_df(df, c, k=None):\n",
        "    \"\"\"Renvoie la distribution empirique d'une variable de type catégorie\"\"\"\n",
        "    if k is None:\n",
        "        effectifs = list(df[c].value_counts().values)\n",
        "        labels = df[c].value_counts().index.to_list()\n",
        "    else:\n",
        "        effectifs = list(df[c].value_counts().iloc[:k].values)\n",
        "        labels = df[c].value_counts().iloc[:k].index.to_list()\n",
        "        \n",
        "        # Si il reste des modalités, on les aggrège ensemble\n",
        "        effectif = df[c].value_counts().iloc[k:].sum()\n",
        "        if effectif > 0:\n",
        "            effectifs.append(effectif)\n",
        "            labels.append(\"autres\")\n",
        "\n",
        "    tmp = pd.DataFrame({\n",
        "        c: labels,\n",
        "        \"effectif\": effectifs\n",
        "    })\n",
        "    \n",
        "    tmp[\"f\"] = tmp[\"effectif\"] / df[c].count()\n",
        "    tmp[\"F\"] = tmp[\"f\"].cumsum()\n",
        "    \n",
        "    return tmp\n",
        "\n",
        "def categ_plot_pie_chart(df, c, k):\n",
        "    \"\"\"Affiche un pie chart de la distribution d'une variable de type catégorie\"\"\"\n",
        "    tmp = get_cat_var_emp_dist_df(df, c, k)\n",
        "\n",
        "    # On crée le pie chart\n",
        "    fig = px.pie(\n",
        "        tmp,\n",
        "        values=\"effectif\",\n",
        "        names=c,\n",
        "        title=f\"Distribution de la variable {c}\"\n",
        "    )\n",
        "    fig = go.FigureWidget(fig)\n",
        "    fig.update_traces(textinfo='percent+label')\n",
        "    # display(fig)\n",
        "    \n",
        "    return HTML(fig.to_html())\n",
        "\n",
        "def categ_plot_bar_chart(df, c, k, log=False):\n",
        "    \"\"\"Affiche un bar chart de la distribution d'une variable de type catégorie\"\"\"\n",
        "    tmp = get_cat_var_emp_dist_df(df, c, k)\n",
        "\n",
        "    # On crée le bar chart\n",
        "    fig = px.bar(\n",
        "        tmp,\n",
        "        y='effectif',\n",
        "        x=c,\n",
        "        text='effectif',\n",
        "        title=f\"Distribution de la variable {c}\",\n",
        "        log_y=log\n",
        "    )\n",
        "    fig = go.FigureWidget(fig)\n",
        "    fig.update_traces(texttemplate='%{text:.2s}', textposition='outside')\n",
        "    # fig.update_layout(uniformtext_minsize=8, uniformtext_mode='hide')\n",
        "    # display(fig)\n",
        "    return HTML(fig.to_html())\n",
        "\n",
        "def num_categ_box_chart(\n",
        "        df_clean,\n",
        "        num_col,\n",
        "        cat_col,\n",
        "        title=\"\",\n",
        "        xlabel=\"\",\n",
        "        ylabel=\"\",\n",
        "        showfliers=True,\n",
        "        rotation=0\n",
        "    ):\n",
        "    \"\"\"\n",
        "    Affiche un box chart d'une variable numérique en fonction des modalités\n",
        "    d\"une variable de type catégorie.\n",
        "    \"\"\"\n",
        "    fig, ax = plt.subplots(figsize=(16, 16))\n",
        "\n",
        "    meanprops = {\n",
        "        'marker':'o',\n",
        "        'markeredgecolor':'black',\n",
        "        'markerfacecolor':'firebrick'\n",
        "    }\n",
        "\n",
        "    sns.boxplot(\n",
        "        data=df_clean.sort_values(cat_col),\n",
        "        x=cat_col,\n",
        "        y=num_col,\n",
        "        showfliers=showfliers,\n",
        "        showmeans=True,\n",
        "        meanprops=meanprops,\n",
        "        ax=ax\n",
        "    )\n",
        "\n",
        "    ax.set_title(title)\n",
        "    ax.set_xlabel(xlabel)\n",
        "    ax.set_ylabel(ylabel)\n",
        "    \n",
        "    if rotation > 0:\n",
        "        ax.set_xticklabels(ax.get_xticklabels(), rotation=rotation)\n",
        "\n",
        "    plt.show()"
      ],
      "execution_count": null,
      "outputs": []
    },
    {
      "cell_type": "markdown",
      "metadata": {
        "id": "tYNX5bSa3RYG"
      },
      "source": [
        "# Introduction"
      ]
    },
    {
      "cell_type": "code",
      "metadata": {
        "id": "jMYnpcn53RYL"
      },
      "source": [
        "# Chargement du jeu de données nettoyé\n",
        "df_clean = pd.read_csv(\"https://raw.githubusercontent.com/tysonjohn015/openFood/main/df_clean_SMALL.csv\",\n",
        "    parse_dates=[\"last_modified_t\"],\n",
        "    low_memory=False\n",
        ")"
      ],
      "execution_count": null,
      "outputs": []
    },
    {
      "cell_type": "markdown",
      "metadata": {
        "id": "wPZ53wxT3RYN"
      },
      "source": [
        "## P0-S0"
      ]
    },
    {
      "cell_type": "markdown",
      "metadata": {
        "id": "y4cp4Mco3RYR"
      },
      "source": [
        "### Présentation générale du jeu de données"
      ]
    },
    {
      "cell_type": "markdown",
      "metadata": {
        "tags": [
          "body"
        ],
        "id": "ktsh84kN3RYV"
      },
      "source": [
        "Nous allons analyser un jeu de données fourni gratuitement par [Open Food Facts](https://world.openfoodfacts.org/who-we-are).\n",
        "Il s'agit d'un projet collaboratif qui vise à collecter des données sur des produits alimentaires que l'on retrouve en grande surface. Le projet a été initié en France mais il est depuis devenu international.\n",
        "\n",
        "Le projet possède une page wiki avec des nombreuses informations sur son jeu de données : [wiki](https://wiki.openfoodfacts.org/Main_Page).\n",
        "\n",
        "Cette page web présente l'exploration et l'analyse du jeu de données nettoyé. On retrouvera 4 parties dans le menu :\n",
        "- **Introduction** : ce que vous êtes actellement en train de lire.\n",
        "- **Exploration des produits** : outil d'exploration visuelle des produits sous format d'un dashboard.\n",
        "- **Analyse univariée** : analyse de chaque variable une à une.\n",
        "- **Analyse multivariée** : analyse des liens entre les variables."
      ]
    },
    {
      "cell_type": "markdown",
      "metadata": {
        "tags": [
          "body"
        ],
        "id": "FDNvjZO43RYZ"
      },
      "source": [
        "Voici un graphique résumant le jeu données avec le nombre de valeurs présentes par variable :"
      ]
    },
    {
      "cell_type": "code",
      "metadata": {
        "scrolled": false,
        "tags": [
          "body"
        ],
        "id": "qktYmix83RYb"
      },
      "source": [
        "col_val_to_label = {\n",
        "    \"code\": \"Code bar\",\n",
        "\n",
        "    \"creator\": \"Créateur\",\n",
        "    \"last_modified_t\": \"Date de dernière modification\",\n",
        "    \"product_name\": \"Nom\",\n",
        "    \"brands\": \"Marque\",\n",
        "    \"countries_fr\": \"Pays de vente\",\n",
        "    \"pnns_groups_1\": \"Catégorie\",\n",
        "    \"pnns_groups_2\": \"Catégorie détaillée\",\n",
        "\n",
        "    \"nutriscore_grade\": \"Nutri-Score\",\n",
        "    \"nutriscore_score\": \"Score de nutrition\",\n",
        "\n",
        "    \"ingredients_text\": \"Ingrédients\",\n",
        "    \"ingredients_n\": \"Nombre d'ingrédients\",\n",
        "\n",
        "    \"additives_fr\": \"Additifs\",\n",
        "    \"additives_n\": \"Nombre d'additifs\",\n",
        "    \"additifs_n_risque_faible\": \"Nombre d'additifs ayant un risque faible\",\n",
        "    \"additifs_n_risque_moyen\": \"Nombre d'additifs ayant un risque modéré\",\n",
        "    \"additifs_n_risque_eleve\": \"Nombre d'additifs ayant un risque élevé\",\n",
        "\n",
        "    \"allergens\": \"Allergènes\",\n",
        "    \"allergens_n\": \"Nombre d'allergènes\",\n",
        "\n",
        "    \"energy_100g\": \"Energie/100g (kJ)\",\n",
        "    \"fat_100g\": \"Matières grasses/100g\",\n",
        "    \"saturated-fat_100g\": \"Matières grasses saturées/100g\",\n",
        "    \"carbohydrates_100g\": \"Glucides/100g\",\n",
        "    \"sugars_100g\": \"Sucres/100g\",\n",
        "    \"fiber_100g\": \"Fibres/100g\",\n",
        "    \"proteins_100g\": \"Protéines/100g\",\n",
        "    \"salt_100g\": \"Sel/100g\",\n",
        "}\n",
        "\n",
        "fig, ax = plt.subplots(figsize=(16, 8))\n",
        "\n",
        "msno.bar(df_clean, ax=ax)\n",
        "ax.set_title(\n",
        "    \"\"\"\n",
        "    Représentation des valeurs présentes par variable.\n",
        "    \"\"\",\n",
        "    fontsize=16)\n",
        "fig.axes[0].set_ylabel(\"Fréquence de valeurs présentes\", fontsize=16)\n",
        "fig.axes[1].set_ylabel(\"Nombre de valeurs présentes\", fontsize=16)\n",
        "\n",
        "plt.show()"
      ],
      "execution_count": null,
      "outputs": []
    },
    {
      "cell_type": "markdown",
      "metadata": {
        "tags": [
          "body"
        ],
        "id": "XMZotuf53RYf"
      },
      "source": [
        "Voici une brève description de chaques variables :\n",
        "\n",
        "**Informations générales** :\n",
        "- `code` : code bar du produit.\n",
        "- `creator` : identifiant de celui qui a inséré le produit dans le jeu de donnée.\n",
        "- `last_modified_t` : date de dernière modification.\n",
        "\n",
        "**Informations spécifiques** :\n",
        "- `product_name` : nom commercial du produit.\n",
        "- `brands` : marque du produit.\n",
        "- `countries_fr` : pays de vente.\n",
        "- `pnns_groups_1` : catégorie.\n",
        "- `pnns_groups_2` : catégorie détaillée.\n",
        "- `nutriscore_grade` : Nutri-Score (A, B, C, D ou E).\n",
        "- `nutriscore_score` : score de nutrition.\n",
        "- `pn_beverages` : lien entre le nom du produit et la catégorie des boissons.\n",
        "- `pn_cereals_and_potatoes` : lien entre le nom du produit et la catégorie des céréales et pommes de terre.\n",
        "- `pn_composite_foods` : lien entre le nom du produit et la catégorie des produits composés.\n",
        "- `pn_fat_and_sauces` : lien entre le nom du produit et la catégorie des sauces et matières grasses.\n",
        "- `pn_fish_meat_eggs` : lien entre le nom du produit et la catégorie des poissons, des viandes et des oeufs.\n",
        "- `pn_fruits_and_vegetables` : lien entre le nom du produit et la catégorie des fruits et légumes.\n",
        "- `pn_milk_and_dairy_products` : lien entre le nom du produit et la catégorie des produits laitiers.\n",
        "- `pn_salty_snacks` : lien entre le nom du produit et la catégorie des snacks salés.\n",
        "- `pn_sugary_snacks` : lien entre le nom du produit et la catégorie des snacks sucrés.\n",
        "\n",
        "**Ingrédients** :\n",
        "- `ingredients_text` : liste des ingrédients.\n",
        "- `ingredients_n` : nombre d'ingrédients.\n",
        "- `additives_fr` : liste des additifs.\n",
        "- `additives_n` : nombre d'additifs.\n",
        "- `additifs_n_risque_faible` : nombre d'additifs ayant un risque de sur-exposition très faible ou nul.\n",
        "- `additifs_n_risque_moyen` : nombre d'additifs ayant un risque modéré de sur-exposition.\n",
        "- `additifs_n_risque_eleve` : nombre d'additifs ayant un risque élevé de sur-exposition.\n",
        "- `allergens` : liste des allergènes.\n",
        "- `allergens_n` : nombre d'allergènes.\n",
        "\n",
        "**Informations nutritionnelles** :\n",
        "- `energy_100g` : énergie aux 100g (kJ).\n",
        "- `fat_100g` : quantité de matières grasses aux 100g.\n",
        "- `saturated-fat_100g` : quantité de matières grasses saturées aux 100g.\n",
        "- `carbohydrates_100g` : quantité de glucides aux 100g.\n",
        "- `sugars_100g` : quantité de sucres aux 100g.\n",
        "- `fiber_100g` : quantité de fibres aux 100g.\n",
        "- `proteins_100g` : quantité de protéines aux 100g.\n",
        "- `salt_100g` : quantité de sel aux 100g."
      ]
    },
    {
      "cell_type": "markdown",
      "metadata": {
        "id": "NUuH_wQn3RYh"
      },
      "source": [
        "# Exploration des produits"
      ]
    },
    {
      "cell_type": "markdown",
      "metadata": {
        "tags": [
          "sidebar"
        ],
        "id": "JGifUJqu3RYj"
      },
      "source": [
        "## Section"
      ]
    },
    {
      "cell_type": "markdown",
      "metadata": {
        "tags": [
          "size=250"
        ],
        "id": "WUZmGeKm3RYl"
      },
      "source": [
        "### Filtres des produits"
      ]
    },
    {
      "cell_type": "code",
      "metadata": {
        "tags": [
          "body"
        ],
        "id": "msB4Zx3V3RYn"
      },
      "source": [
        "# Création des widgets de sélection des produits\n",
        "p0s1_widgets = []\n",
        "\n",
        "options = np.sort(df_clean[df_clean[\"pnns_groups_1\"].notna()][\"pnns_groups_1\"].unique()).tolist()\n",
        "p0s1_pnns_groups_1_label = widgets.HTML(value=\"Catégorie(s) des produits :\")\n",
        "p0s1_pnns_groups_1 = widgets.SelectMultiple(\n",
        "    options=options,\n",
        "    value=options[0:1],\n",
        "    rows=5\n",
        ")\n",
        "p0s1_widgets += [p0s1_pnns_groups_1_label, p0s1_pnns_groups_1]\n",
        "\n",
        "options = df_clean[df_clean[\"countries_fr\"].notna()][\"countries_fr\"].value_counts().index.to_list()\n",
        "p0s1_countries_fr_label = widgets.HTML(value=\"Pays de vente :\")\n",
        "p0s1_countries_fr = widgets.SelectMultiple(\n",
        "    options=options,\n",
        "    value=options[1:2],\n",
        "    rows=5\n",
        ")\n",
        "p0s1_widgets += [p0s1_countries_fr_label, p0s1_countries_fr]\n",
        "\n",
        "options = np.sort(df_clean[df_clean[\"nutriscore_grade\"].notna()][\"nutriscore_grade\"].unique()).tolist()\n",
        "p0s1_nutriscore_grade_label = widgets.HTML(value=\"Nutri-Score :\")\n",
        "p0s1_nutriscore_grade = widgets.SelectMultiple(\n",
        "    options=options,\n",
        "    value=options[0:1],\n",
        "    rows=5\n",
        ")\n",
        "p0s1_widgets += [p0s1_nutriscore_grade_label, p0s1_nutriscore_grade]\n",
        "\n",
        "options = np.sort(df_clean[df_clean[\"ingredients_n\"].notna()][\"ingredients_n\"].unique()).astype(int).tolist()\n",
        "p0s1_ingredients_n_label = widgets.HTML(value=\"Nombre d'ingrédients :\")\n",
        "p0s1_ingredients_n = widgets.SelectionRangeSlider(\n",
        "    options=options,\n",
        "    index=(0, len(options) - 1),\n",
        ")\n",
        "p0s1_widgets += [p0s1_ingredients_n_label, p0s1_ingredients_n]\n",
        "\n",
        "options = np.sort(df_clean[df_clean[\"additives_n\"].notna()][\"additives_n\"].unique()).astype(int).tolist()\n",
        "p0s1_additives_n_label = widgets.HTML(value=\"Nombre d'additifs :\")\n",
        "p0s1_additives_n = widgets.SelectionRangeSlider(\n",
        "    options=options,\n",
        "    index=(0, len(options) - 1),\n",
        ")\n",
        "p0s1_widgets += [p0s1_additives_n_label, p0s1_additives_n]\n",
        "\n",
        "options = np.sort(df_clean[df_clean[\"allergens_n\"].notna()][\"allergens_n\"].unique()).astype(int).tolist()\n",
        "p0s1_allergens_n_label = widgets.HTML(value=\"Nombre d'allergène :\")\n",
        "p0s1_allergens_n = widgets.SelectionRangeSlider(\n",
        "    options=options,\n",
        "    index=(0, len(options) - 1),\n",
        ")\n",
        "p0s1_widgets += [p0s1_allergens_n_label, p0s1_allergens_n]\n",
        "\n",
        "options = np.sort(df_clean[df_clean[\"energy_100g\"].notna()][\"energy_100g\"].unique()).astype(int).tolist()\n",
        "p0s1_energy_100g_label = widgets.HTML(value=\"Énergie aux 100g :\")\n",
        "p0s1_energy_100g = widgets.SelectionRangeSlider(\n",
        "    options=options,\n",
        "    index=(0, len(options) - 1),\n",
        ")\n",
        "p0s1_widgets += [p0s1_energy_100g_label, p0s1_energy_100g]\n",
        "\n",
        "widgets.VBox(p0s1_widgets)"
      ],
      "execution_count": null,
      "outputs": []
    },
    {
      "cell_type": "markdown",
      "metadata": {
        "tags": [
          "orientation=rows"
        ],
        "id": "wZhgQoGy3RYp"
      },
      "source": [
        "## Section"
      ]
    },
    {
      "cell_type": "markdown",
      "metadata": {
        "id": "9G-uMP7z3RYq"
      },
      "source": [
        "### Visualisation graphique"
      ]
    },
    {
      "cell_type": "code",
      "metadata": {
        "tags": [
          "body"
        ],
        "id": "gg5ZuWmn3RYq"
      },
      "source": [
        "# Création des widgets de sélection des axes du scatter plot\n",
        "p0s1_fig_label = widgets.HTML(value=\"<u>Projection des produits sélectionnés en fonction des variables suivantes</u>\")\n",
        "\n",
        "axis_dict = {\n",
        "    \"Energie/100g (kJ)\": \"energy_100g\",\n",
        "    \"Matières grasses/100g\": \"fat_100g\",\n",
        "    \"Matières grasses saturées/100g\": \"saturated-fat_100g\",\n",
        "    \"Glucides/100g\": \"carbohydrates_100g\",\n",
        "    \"Sucres/100g\": \"sugars_100g\",\n",
        "    \"Protéines/100g\": \"proteins_100g\",\n",
        "    \"Sel/100g\": \"salt_100g\",\n",
        "    \"Score de nutrition\": \"nutriscore_score\",\n",
        "}\n",
        "\n",
        "p0s1_x_axis_label = widgets.HTML(value=\"Axe des abscisses :\")\n",
        "p0s1_x_axis = widgets.Dropdown(\n",
        "    options=axis_dict,\n",
        "    value=\"energy_100g\",\n",
        ")\n",
        "\n",
        "p0s1_y_axis_label = widgets.HTML(value=\"Axe des ordonnées :\")\n",
        "p0s1_y_axis = widgets.Dropdown(\n",
        "    options=axis_dict,\n",
        "    value=\"nutriscore_score\",\n",
        ")\n",
        "\n",
        "# Création du scatter plot représentant les produits\n",
        "p0s1_fig = go.FigureWidget(\n",
        "    [\n",
        "        go.Scatter(\n",
        "            y=[],\n",
        "            x=[],\n",
        "            mode=\"markers\"\n",
        "        )\n",
        "    ]\n",
        ")\n",
        "\n",
        "p0s1_fig.data[0].marker.opacity = 0.5\n",
        "\n",
        "margin = go.layout.Margin(l=20, r=20, b=20, t=30)\n",
        "p0s1_fig = p0s1_fig.update_layout(margin=margin)\n",
        "\n",
        "axis_hbox = widgets.HBox([\n",
        "    widgets.VBox([p0s1_x_axis_label, p0s1_x_axis]),\n",
        "    widgets.VBox([p0s1_y_axis_label, p0s1_y_axis]),\n",
        "])\n",
        "\n",
        "fig_vbox = widgets.VBox([p0s1_fig_label, axis_hbox, p0s1_fig])\n",
        "fig_vbox.layout.align_items = \"center\"\n",
        "fig_vbox"
      ],
      "execution_count": null,
      "outputs": []
    },
    {
      "cell_type": "markdown",
      "metadata": {
        "id": "xuuGBQZA3RYs"
      },
      "source": [
        "### Visualisation tabulaire"
      ]
    },
    {
      "cell_type": "code",
      "metadata": {
        "tags": [
          "body"
        ],
        "id": "6WkYS1ft3RYt"
      },
      "source": [
        "# Création des widgets de sélection des groupes de variables du tableau\n",
        "p0s1_table_label = widgets.HTML(value=\"<u>Comparaison des données des produits sélectionnés</u>\")\n",
        "\n",
        "p0s1_show_info = widgets.Checkbox(\n",
        "    value=True,\n",
        "    description='Informations spécifiques'\n",
        ")\n",
        "\n",
        "p0s1_show_ingredients = widgets.Checkbox(\n",
        "    value=False,\n",
        "    description='Ingrédients'\n",
        ")\n",
        "\n",
        "p0s1_show_nutriments = widgets.Checkbox(\n",
        "    value=False,\n",
        "    description='Informations nutritionnelles'\n",
        ")\n",
        "\n",
        "# Création du tableau représentant les produits\n",
        "def p0s1_get_cols():\n",
        "    cols = [\"code\", \"product_name\"]\n",
        "    \n",
        "    if p0s1_show_info.value:\n",
        "        cols += [\n",
        "            \"brands\",\n",
        "            \"countries_fr\",\n",
        "            \"pnns_groups_1\",\n",
        "            \"nutriscore_grade\",\n",
        "        ]\n",
        "    \n",
        "    if p0s1_show_ingredients.value:\n",
        "        cols += [\n",
        "            \"ingredients_text\",\n",
        "            \"ingredients_n\",\n",
        "            \"additives_fr\",\n",
        "            \"additives_n\",\n",
        "            \"additifs_n_risque_faible\",\n",
        "            \"additifs_n_risque_moyen\",\n",
        "            \"additifs_n_risque_eleve\",\n",
        "            \"allergens\",\n",
        "            \"allergens_n\",\n",
        "        ]\n",
        "    \n",
        "    if p0s1_show_nutriments.value:\n",
        "        cols += [\n",
        "            \"energy_100g\",\n",
        "            \"fat_100g\",\n",
        "            \"saturated-fat_100g\",\n",
        "            \"carbohydrates_100g\",\n",
        "            \"sugars_100g\",\n",
        "            \"fiber_100g\",\n",
        "            \"proteins_100g\",\n",
        "            \"salt_100g\",\n",
        "        ]\n",
        "    \n",
        "    return {k: v for k, v in col_val_to_label.items() if k in cols}\n",
        "\n",
        "p0s1_table = go.FigureWidget(\n",
        "    [\n",
        "        go.Table(\n",
        "          header=dict(\n",
        "                values=list(p0s1_get_cols().values()),\n",
        "            ),\n",
        "            cells=dict(\n",
        "                values=[],\n",
        "            )\n",
        "        )\n",
        "    ]\n",
        ")\n",
        "\n",
        "show_hbox = widgets.HBox([p0s1_show_info, p0s1_show_ingredients, p0s1_show_nutriments])\n",
        "show_hbox.layout.justify_content = \"center\"\n",
        "\n",
        "table_vbox = widgets.VBox([p0s1_table_label, show_hbox, p0s1_table])\n",
        "table_vbox.layout.align_items = \"center\"\n",
        "table_vbox.layout.overflow = \"scroll hidden\"\n",
        "table_vbox"
      ],
      "execution_count": null,
      "outputs": []
    },
    {
      "cell_type": "code",
      "metadata": {
        "id": "np7hz_bf3RYw"
      },
      "source": [
        "# Gestion des events des widgets\n",
        "def p0s1_select_products():\n",
        "    mask = df_clean[\"pnns_groups_1\"].isin(p0s1_pnns_groups_1.value)\n",
        "    mask &= df_clean[\"countries_fr\"].isin(p0s1_countries_fr.value)\n",
        "    mask &= df_clean[\"nutriscore_grade\"].isin(p0s1_nutriscore_grade.value)\n",
        "    mask &= (df_clean[\"ingredients_n\"] >= p0s1_ingredients_n.value[0]) & (df_clean[\"ingredients_n\"] <= p0s1_ingredients_n.value[1])\n",
        "    mask &= (df_clean[\"additives_n\"] >= p0s1_additives_n.value[0]) & (df_clean[\"additives_n\"] <= p0s1_additives_n.value[1])\n",
        "    mask &= (df_clean[\"allergens_n\"] >= p0s1_allergens_n.value[0]) & (df_clean[\"allergens_n\"] <= p0s1_allergens_n.value[1])\n",
        "    mask &= (df_clean[\"energy_100g\"] >= p0s1_energy_100g.value[0]) & (df_clean[\"energy_100g\"] <= p0s1_energy_100g.value[1])\n",
        "    \n",
        "    return df_clean[mask].reset_index()\n",
        "\n",
        "def on_p0s1_widgets_change(change):\n",
        "    tmp = p0s1_select_products()\n",
        "    \n",
        "    p0s1_fig_label.value = f\"<u>Projection des {tmp.shape[0]} produits sélectionnés en fonction des variables suivantes</u>\"\n",
        "    \n",
        "    with p0s1_fig.batch_update():\n",
        "        p0s1_fig.data[0].x = tmp[p0s1_x_axis.value]\n",
        "        p0s1_fig.data[0].y = tmp[p0s1_y_axis.value]\n",
        "#         codes, uniques = pd.factorize(tmp[\"nutriscore_grade\"])\n",
        "#         p0s1_fig.data[0].marker.color = codes\n",
        "#         p0s1_fig.data[0].showlegend = True\n",
        "        \n",
        "        p0s1_fig.update_xaxes(title_text=p0s1_x_axis.label)\n",
        "        p0s1_fig.update_yaxes(title_text=p0s1_y_axis.label)\n",
        "        \n",
        "    p0s1_table_label.value = f\"<u>Comparaison des données des {tmp.shape[0]} produits sélectionnés</u>\"\n",
        "        \n",
        "    with p0s1_table.batch_update():\n",
        "        cols = p0s1_get_cols()\n",
        "        p0s1_table.data[0].header.values = list(cols.values())\n",
        "        p0s1_table.data[0].cells.values = [tmp[c].values for c in list(cols.keys())]\n",
        "\n",
        "\n",
        "for w in p0s1_widgets + [p0s1_x_axis, p0s1_y_axis, p0s1_show_info, p0s1_show_ingredients, p0s1_show_nutriments]:\n",
        "    if w._model_name != \"HTMLModel\":\n",
        "        w.observe(on_p0s1_widgets_change, names=\"value\")\n",
        "\n",
        "on_p0s1_widgets_change(None)"
      ],
      "execution_count": null,
      "outputs": []
    },
    {
      "cell_type": "markdown",
      "metadata": {
        "id": "i6MTSpM_3RYz"
      },
      "source": [
        "# Analyse univariée"
      ]
    },
    {
      "cell_type": "markdown",
      "metadata": {
        "tags": [
          "orientation=rows"
        ],
        "id": "VHA_EibK3RY2"
      },
      "source": [
        "## P1-S0"
      ]
    },
    {
      "cell_type": "markdown",
      "metadata": {
        "id": "KQ93AIyi3RY3"
      },
      "source": [
        "### Analyse des variables de type numérique"
      ]
    },
    {
      "cell_type": "markdown",
      "metadata": {
        "tags": [
          "body"
        ],
        "id": "22ocy9VT3RY4"
      },
      "source": [
        "### Distribution des variables\n",
        "\n",
        "Commençons par observer les distributions des variables de type numérique :"
      ]
    },
    {
      "cell_type": "code",
      "metadata": {
        "tags": [
          "body"
        ],
        "id": "-sXClRDm3RY5"
      },
      "source": [
        "# On calcule les indicateurs statistiques de base\n",
        "df_stats = df_clean.describe().T\n",
        "\n",
        "# On réorganise et modifie le nom des colonnes\n",
        "df_stats = df_stats[[\n",
        "    \"mean\",\n",
        "    \"std\",\n",
        "    \"min\",\n",
        "    \"max\",\n",
        "    \"25%\",\n",
        "    \"50%\",\n",
        "    \"75%\"\n",
        "]]\n",
        "df_stats.columns = [\n",
        "    \"moyenne\",\n",
        "    \"écart type\",\n",
        "    \"min\",\n",
        "    \"max\",\n",
        "    \"Q1\",\n",
        "    \"Q2\",\n",
        "    \"Q3\"\n",
        "]\n",
        "\n",
        "# On ajoute le nombre de valeurs manquantes\n",
        "na_nb = []\n",
        "for c in df_stats.index:\n",
        "    na_nb.append(df_clean[c].isna().sum())\n",
        "\n",
        "df_stats[\"valeurs manquantes\"] = na_nb\n",
        "\n",
        "# On ajoute le nombre de valeurs nulles\n",
        "zero_nb = []\n",
        "for c in df_stats.index:\n",
        "    zero_nb.append((df_clean[c] == 0.).sum())\n",
        "\n",
        "df_stats[\"valeurs nulles\"] = zero_nb\n",
        "\n",
        "# On ajoute une mesure de l'asymétrie de la distribution\n",
        "df_stats[\"skewness\"] = df_clean.skew()"
      ],
      "execution_count": null,
      "outputs": []
    },
    {
      "cell_type": "code",
      "metadata": {
        "scrolled": false,
        "tags": [
          "body"
        ],
        "id": "tReB3T-R3RY6"
      },
      "source": [
        "cols = list(df_stats.index)\n",
        "cols_nb = len(cols)\n",
        "c_nb = 3\n",
        "r_nb = np.ceil(cols_nb / c_nb).astype(int)\n",
        "\n",
        "sz = 16 / c_nb\n",
        "fig = plt.figure(figsize=(sz *  c_nb, sz * r_nb))\n",
        "\n",
        "for i, c in enumerate(cols):\n",
        "    ax = plt.subplot(r_nb, c_nb, i + 1)\n",
        "    ax.set_title(f\"Distribution de {c}\", fontsize=14)\n",
        "    \n",
        "    # Si la courbe est très étalée, on utilise une échelle log\n",
        "    if df_stats.loc[c, \"skewness\"] > 2:\n",
        "        ax.set_yscale(\"log\")\n",
        "        ax.set_ylabel(\"Occurrence (log)\", fontsize=14)\n",
        "    else:\n",
        "        ax.set_ylabel(\"Occurrence\", fontsize=14)\n",
        "\n",
        "    df_clean[c].hist(bins=20, ax=ax)\n",
        "    mean_line = ax.axvline(x=df_clean[c].mean(), linewidth=3, color='g', label=\"moyenne\", alpha=0.7)\n",
        "    med_line = ax.axvline(x=df_clean[c].median(), linewidth=3, color='y', label=\"médiane\", alpha=0.7)\n",
        "    \n",
        "    plt.legend(handles=[mean_line, med_line], loc='upper right')\n",
        "\n",
        "plt.tight_layout()\n",
        "plt.show()"
      ],
      "execution_count": null,
      "outputs": []
    },
    {
      "cell_type": "markdown",
      "metadata": {
        "tags": [
          "body"
        ],
        "id": "ZWYCHYqo3RY8"
      },
      "source": [
        "On remarque que seule la variable `nutriscore_score` semble suivre une loi normale multimodale. Ceci semble cohérent car cette variable est correlée à `nutriscore_grade` (voir la suite de l'analyse...) qui est une variable de type catégorie possédant 5 modalités.\n",
        "\n",
        "### Comparaison des indicateurs statistiques\n",
        "\n",
        "- `moyenne` : moyenne arithmétique\n",
        "- `écart type` : écart-type empirique\n",
        "- `min` : valeur minimale\n",
        "- `max` : valeur maximale\n",
        "- `Q1` : 1er quartile (25% des valeurs se trouvent en dessous)\n",
        "- `Q2` : 2ème quartile (50% des valeurs se trouvent en dessous)\n",
        "- `Q3` : 3ème quartile (75% des valeurs se trouvent en dessous)\n",
        "- `valeurs manquantes` : nombre de valeurs manquantes\n",
        "- `valeurs nulles` : nombre de valeurs à 0\n",
        "- `skewness` : skewness empirique indiquant l'asymétrie de la distribution"
      ]
    },
    {
      "cell_type": "code",
      "metadata": {
        "tags": [
          "body"
        ],
        "id": "kNHPK5_P3RY9"
      },
      "source": [
        "# On adapte le nombre de décimals affichées en fonction de la valeur de l'indicateur statistique\n",
        "display(df_stats)"
      ],
      "execution_count": null,
      "outputs": []
    },
    {
      "cell_type": "markdown",
      "metadata": {
        "tags": [
          "body"
        ],
        "id": "j6pmerT43RY-"
      },
      "source": [
        "Les produits ont en moyenne 14 ingrédients. Cela peut être compréhensible pour des plats cuisinés mais peut sembler beaucoup pour par exemple une mousse au chocolat.\n",
        "\n",
        "On constate que certains produits ont jusqu'à 9 additifs considérés comme risqués pour la santé.\n",
        "\n",
        "On constate aussi sur le tableau ci-dessus que les produits sont en moyenne principalement composés de glucides et de matières grasses.\n",
        "\n",
        "Enfin, on remarque en observant le skewness que la distribution des valeurs est très élalée à droite sauf pour le `nutriscore_score`. Cela semble logique puisque la plupart des aliments sont composés d'une somme de nutriments. L'étalement à droite représente les produits spécifiques, comme par exemples les huiles, qui seront composés en majorité d'un seul nutriment."
      ]
    },
    {
      "cell_type": "markdown",
      "metadata": {
        "tags": [
          "body"
        ],
        "id": "_a3TwjNM3RY_"
      },
      "source": [
        "### Répartition du nombre d'ingrédients par catégorie de produit"
      ]
    },
    {
      "cell_type": "code",
      "metadata": {
        "tags": [
          "body"
        ],
        "id": "s_6ANEnP3RZA"
      },
      "source": [
        "num_categ_box_chart(\n",
        "    df_clean,\n",
        "    \"ingredients_n\",\n",
        "    \"pnns_groups_1\",\n",
        "    title=\"Répartition des valeurs de ingredients_n en fonction de pnns_groups_1\",\n",
        "    xlabel=\"Catégorie de produit\",\n",
        "    ylabel=\"Nombre d'ingrédients\",\n",
        "    showfliers=False,\n",
        "    rotation=30\n",
        ")"
      ],
      "execution_count": null,
      "outputs": []
    },
    {
      "cell_type": "markdown",
      "metadata": {
        "tags": [
          "body"
        ],
        "id": "dKLJWeXS3RZC"
      },
      "source": [
        "Sans surprise, on constate que les aliments composites (plats cuisinés etc...) sont ceux qui contiennent le plus d'ingrédients et les fuits et les légumes sont ceux qui en contiennet le moins."
      ]
    },
    {
      "cell_type": "markdown",
      "metadata": {
        "tags": [
          "body"
        ],
        "id": "y20H4aew3RZD"
      },
      "source": [
        "### Produits ayant un nombre élevé d'additifs à risque\n",
        "\n",
        "Voyons quelles sont les produits ayant jusqu'à 9 additifs considérés comme risqué pour la santé :"
      ]
    },
    {
      "cell_type": "code",
      "metadata": {
        "scrolled": false,
        "tags": [
          "body"
        ],
        "id": "oSGH94rC3RZD"
      },
      "source": [
        "cols = [\n",
        "    \"code\",\n",
        "    \n",
        "    \"creator\",\n",
        "    \"last_modified_t\",\n",
        "    \"product_name\",\n",
        "    \"brands\",\n",
        "    \"pnns_groups_1\",\n",
        "\n",
        "    \"nutriscore_grade\",\n",
        "\n",
        "    \"additives_fr\",\n",
        "    \"additifs_n_risque_eleve\",\n",
        "]\n",
        "\n",
        "df_clean[df_clean[\"additifs_n_risque_eleve\"] == 8][cols]"
      ],
      "execution_count": null,
      "outputs": []
    },
    {
      "cell_type": "markdown",
      "metadata": {
        "tags": [
          "body"
        ],
        "id": "t8gzRG7P3RZF"
      },
      "source": [
        "Ces produits sont des snacks sucrés vendus aux US. Il est intéressant de constater qu'ils ont été mis à jour en 2020 et sont donc certainement encore vendu en magasin."
      ]
    },
    {
      "cell_type": "markdown",
      "metadata": {
        "tags": [
          "body"
        ],
        "id": "if9untSc3RZH"
      },
      "source": [
        "### Comparaison des distribution des nutriments"
      ]
    },
    {
      "cell_type": "code",
      "metadata": {
        "scrolled": false,
        "tags": [
          "body"
        ],
        "id": "K0kiChsH3RZH"
      },
      "source": [
        "cols = [\n",
        "    \"fat_100g\",\n",
        "    \"saturated-fat_100g\",\n",
        "    \"carbohydrates_100g\",\n",
        "    \"sugars_100g\",\n",
        "    \"fiber_100g\",\n",
        "    \"proteins_100g\",\n",
        "    \"salt_100g\",\n",
        "]\n",
        "\n",
        "fig, ax = plt.subplots(figsize=(16, 10))\n",
        "\n",
        "sns.boxplot(\n",
        "    data=df_clean[cols],\n",
        "    showfliers=False,\n",
        "    showmeans=True,\n",
        "    ax=ax\n",
        ")\n",
        "\n",
        "ax.set_title(\"Comparaison des distributions des nutriments\")\n",
        "ax.set_ylabel(\"Quantité en g\")\n",
        "\n",
        "# plt.savefig('comparaison des distributions des nutriments.png', bbox_inches='tight')\n",
        "plt.show()"
      ],
      "execution_count": null,
      "outputs": []
    },
    {
      "cell_type": "markdown",
      "metadata": {
        "tags": [
          "body"
        ],
        "id": "kLlOzeGY3RZK"
      },
      "source": [
        "On peut voir visuellement ce que l'on avait constaté dans le tableau des indicateurs statistiques (il y a en moyenne plus de glucides et de matières grasses dans nos aliments).\n",
        "\n",
        "Il est aussi intéressant de constater les valeurs des quartiles Q3 indiquant que 75% des aliments sont en dessous de ces seuil :"
      ]
    },
    {
      "cell_type": "code",
      "metadata": {
        "scrolled": true,
        "tags": [
          "body"
        ],
        "id": "ahSyAFRz3RZL"
      },
      "source": [
        "text = \"\"\n",
        "\n",
        "for i, v in df_clean[cols].quantile(0.75).items():\n",
        "    text += f\"- `{i}` : {v:0.2f}g\\n\"\n",
        "    \n",
        "print_md(text)"
      ],
      "execution_count": null,
      "outputs": []
    },
    {
      "cell_type": "markdown",
      "metadata": {
        "id": "jq_qmEYy3RZM"
      },
      "source": [
        "### Analyse des variables de type catégorie"
      ]
    },
    {
      "cell_type": "markdown",
      "metadata": {
        "tags": [
          "body"
        ],
        "id": "-nJS1n7D3RZM"
      },
      "source": [
        "### Comparaison des indicateurs statistiques\n",
        "\n",
        "- `nombre de valeurs` : nombre de valeurs présentes\n",
        "- `nombre de modalités` : nombre de modalités de la variable\n",
        "- `mode` : modalité qui apparait le plus souvent\n",
        "- `effectif du mode` : nombre de fois où le mode apparait\n",
        "- `fréquence du mode` : fréquence d'apparition du mode\n",
        "- `valeurs manquantes` : nombre de valeurs manquantes"
      ]
    },
    {
      "cell_type": "code",
      "metadata": {
        "tags": [
          "body"
        ],
        "id": "OVvkvVn43RZN"
      },
      "source": [
        "df_stats = df_clean[df_clean.columns.difference([\"code\"])].describe(include=['object']).T\n",
        "\n",
        "df_stats.columns = [\n",
        "    \"nombre de valeurs\",\n",
        "    \"nombre de modalités\",\n",
        "    \"mode\",\n",
        "    \"effectif du mode\",\n",
        "]\n",
        "\n",
        "df_stats[\"fréquence du mode\"] = df_stats[\"effectif du mode\"] / df_stats[\"nombre de valeurs\"]\n",
        "\n",
        "# On ajoute le nombre de valeurs manquantes\n",
        "inconnu_nb = []\n",
        "for c in df_stats.index:\n",
        "    inconnu_nb.append(df_clean[c].isna().sum())\n",
        "\n",
        "df_stats[\"valeurs manquantes\"] = inconnu_nb\n",
        "\n",
        "display(df_stats)"
      ],
      "execution_count": null,
      "outputs": []
    },
    {
      "cell_type": "markdown",
      "metadata": {
        "tags": [
          "body"
        ],
        "id": "fG4R9K4K3RZO"
      },
      "source": [
        "Excepté `nutriscore_grade`, `pnns_groups_1` et `pnns_groups_2`, les autres variables ont toutes un grand nombre de modalités. Ceci est du au fait que ce sont des variables de type texte. Elles ne respectent pas de format spécifique et sont donc très irrégulières. Par exemple, pour représenter la valeur `Royaume-Uni`, on pourrait avoir dans nos données :\n",
        "- Royaume-Uni\n",
        "- royaume uni,france\n",
        "- UK\n",
        "- etc...\n",
        "\n",
        "On rappelle aussi que certaines variables, comme `ingredients_text`, sont au format csv et représentent des listes de textes. Cela explique aussi pourquoi il y a de si grands nombres de modalités."
      ]
    },
    {
      "cell_type": "markdown",
      "metadata": {
        "tags": [
          "body"
        ],
        "id": "e7jSj5yi3RZP"
      },
      "source": [
        "### Distribution de la variable `creator`"
      ]
    },
    {
      "cell_type": "code",
      "metadata": {
        "tags": [
          "body"
        ],
        "id": "Aqvl_afo3RZQ"
      },
      "source": [
        "categ_plot_pie_chart(df_clean, \"creator\", 4)"
      ],
      "execution_count": null,
      "outputs": []
    },
    {
      "cell_type": "code",
      "metadata": {
        "id": "XiwWdmKJJUoV"
      },
      "source": [
        "categ_plot_bar_chart(df_clean, \"creator\", 8)"
      ],
      "execution_count": null,
      "outputs": []
    },
    {
      "cell_type": "markdown",
      "metadata": {
        "tags": [
          "body"
        ],
        "id": "7MRwBHY43RZR"
      },
      "source": [
        "57% des produits proviendraient du département de l'agriculture des US.\n",
        "\n",
        "On a ensuite 16% des produits qui ont été rentré par `kiliweb` sur qui nous n'avont pas beaucoup d'information.\n",
        "\n",
        "On retrouve ensuite des contributeurs anonymes avec 8% des produits."
      ]
    },
    {
      "cell_type": "markdown",
      "metadata": {
        "tags": [
          "body"
        ],
        "id": "1nsqto7n3RZS"
      },
      "source": [
        "### Distribution de la variable `product_name`"
      ]
    },
    {
      "cell_type": "code",
      "metadata": {
        "tags": [
          "body"
        ],
        "id": "9yafKGZa3RZS"
      },
      "source": [
        "get_cat_var_emp_dist_df(df_clean, \"product_name\", k=15)"
      ],
      "execution_count": null,
      "outputs": []
    },
    {
      "cell_type": "markdown",
      "metadata": {
        "tags": [
          "body"
        ],
        "id": "Iz2Fm8Ov3RZU"
      },
      "source": [
        "Les noms qui apparaissent le plus souvent sont `Ice cream` et `Potato chips`. Les noms sont en anglais, il s'agit donc probablement de produits vendus aux US. Il est cependant vrai que, même en France, le rayons des chips comporte de nombreuses variétés et marques différentes.\n",
        "\n",
        "La fréquence des effectifs reste très faible. En effet, le nom de chaque produit peut varier en fonction des ses particularités, de son pays de vente etc... Il faudrait donc nettoyer ces valeurs et les uniformiser afin de pouvoir les exploiter."
      ]
    },
    {
      "cell_type": "markdown",
      "metadata": {
        "tags": [
          "body"
        ],
        "id": "pwe3NuF83RZU"
      },
      "source": [
        "### Distribution de la variable `countries_fr`"
      ]
    },
    {
      "cell_type": "code",
      "metadata": {
        "scrolled": false,
        "tags": [
          "body"
        ],
        "id": "GOdOyNQX3RZV"
      },
      "source": [
        "categ_plot_pie_chart(df_clean, \"countries_fr\", 2)"
      ],
      "execution_count": null,
      "outputs": []
    },
    {
      "cell_type": "code",
      "metadata": {
        "id": "PBxnTu3SJq1Q"
      },
      "source": [
        "categ_plot_bar_chart(df_clean, \"countries_fr\", 8)"
      ],
      "execution_count": null,
      "outputs": []
    },
    {
      "cell_type": "markdown",
      "metadata": {
        "tags": [
          "body"
        ],
        "id": "kbvKR0h63RZW"
      },
      "source": [
        "59% des produits de notre jeu de données nettoyé sont vendus aux US et 23% en France.\n",
        "\n",
        "Dans le jeu de données inital (avant nettoyage) ces chiffres étaient presques inversés. Il y a donc beaucoup de produits vendus en France qui ont des valeurs manquantes/aberrantes et qui ont été supprimés durant le nettoyage des données."
      ]
    },
    {
      "cell_type": "markdown",
      "metadata": {
        "tags": [
          "body"
        ],
        "id": "zY6OcSTR3RZZ"
      },
      "source": [
        "### Distribution de la variable `brands`"
      ]
    },
    {
      "cell_type": "code",
      "metadata": {
        "scrolled": true,
        "tags": [
          "body"
        ],
        "id": "GLIAI6-H3RZa"
      },
      "source": [
        "tmp = df_clean[[\"brands\"]].fillna(\"Unknown\")\n",
        "\n",
        "get_cat_var_emp_dist_df(tmp, \"brands\", k=10)"
      ],
      "execution_count": null,
      "outputs": []
    },
    {
      "cell_type": "markdown",
      "metadata": {
        "tags": [
          "body"
        ],
        "id": "EFwuxJrI3RZb"
      },
      "source": [
        "Les 5 marques les plus représentées sont française. Cependant, la variable `brands` contient 28% de valeurs manquante. Voyons dans quel pays sont vendus les produits n'ayant pas leur marque :"
      ]
    },
    {
      "cell_type": "code",
      "metadata": {
        "tags": [
          "body"
        ],
        "id": "fjqIR0dq3RZc"
      },
      "source": [
        "pd.DataFrame(df_clean[df_clean[\"brands\"].isna()][\"countries_fr\"].value_counts()[:5]).rename(\n",
        "    columns={\"countries_fr\": \"Nombre de produits sans marque\"}\n",
        ")"
      ],
      "execution_count": null,
      "outputs": []
    },
    {
      "cell_type": "markdown",
      "metadata": {
        "tags": [
          "body"
        ],
        "id": "JsYmP4RI3RZd"
      },
      "source": [
        "On constate que la grande majorité des produits n'ayant pas de valeur dans la variable `brands` sont vendus aux US."
      ]
    },
    {
      "cell_type": "markdown",
      "metadata": {
        "tags": [
          "body"
        ],
        "id": "fQP_jqKj3RZe"
      },
      "source": [
        "### Distribution de la variable `pnns_groups_1`"
      ]
    },
    {
      "cell_type": "code",
      "metadata": {
        "tags": [
          "body"
        ],
        "id": "FuITRcBn3RZe"
      },
      "source": [
        "tmp = df_clean[[\"pnns_groups_1\"]].fillna(\"Unknown\")\n",
        "\n",
        "categ_plot_pie_chart(tmp, \"pnns_groups_1\", 10)"
      ],
      "execution_count": null,
      "outputs": []
    },
    {
      "cell_type": "code",
      "metadata": {
        "id": "iMtUgWisKSth"
      },
      "source": [
        "categ_plot_bar_chart(tmp, \"pnns_groups_1\", 10)"
      ],
      "execution_count": null,
      "outputs": []
    },
    {
      "cell_type": "markdown",
      "metadata": {
        "tags": [
          "body"
        ],
        "id": "-oaEKKqT3RZg"
      },
      "source": [
        "17% des produits sont des snacks sucrés.\n",
        "\n",
        "Il est à noter que la catégorie la moins représentée est composée de 11000 produits. Il s'agit d'un nombre important de produits et on va donc considérer que chaque catégorie est représentative de sa population."
      ]
    },
    {
      "cell_type": "markdown",
      "metadata": {
        "tags": [
          "body"
        ],
        "id": "IYADGCzt3RZg"
      },
      "source": [
        "### Distribution de la variable `pnns_groups_2`"
      ]
    },
    {
      "cell_type": "code",
      "metadata": {
        "scrolled": false,
        "tags": [
          "body"
        ],
        "id": "LoJojjR23RZh"
      },
      "source": [
        "tmp = df_clean[[\"pnns_groups_2\"]].fillna(\"Unknown\")\n",
        "\n",
        "categ_plot_pie_chart(tmp, \"pnns_groups_2\", 15)"
      ],
      "execution_count": null,
      "outputs": []
    },
    {
      "cell_type": "code",
      "metadata": {
        "id": "RNFWgeqXKcPm"
      },
      "source": [
        "categ_plot_bar_chart(tmp, \"pnns_groups_2\", 40, log=True)"
      ],
      "execution_count": null,
      "outputs": []
    },
    {
      "cell_type": "markdown",
      "metadata": {
        "tags": [
          "body"
        ],
        "id": "VIYw8yzw3RZi"
      },
      "source": [
        "Comme précédemment, on retrouve en tête du classement les biscuits et les gateaux avec 9% des produits et les sucreries avec 7% des produits.\n",
        "\n",
        "On remaque cependant que le nombre de produits par catégorie décroit de façon exponentielle. Les dernières catégories contiennent moins de 1000 individus contre 33000 pour la première catégorie.\n",
        "\n",
        "Nous allons privilégier `pnns_groups_1` pour le reste de cette analyse car elle a une répartition plus uniforme des individus par catégorie de produit."
      ]
    },
    {
      "cell_type": "markdown",
      "metadata": {
        "tags": [
          "body"
        ],
        "id": "Lh6U7-oS3RZi"
      },
      "source": [
        "### Distribution de la variable `nutriscore_grade`"
      ]
    },
    {
      "cell_type": "code",
      "metadata": {
        "tags": [
          "body"
        ],
        "id": "LyTch1i_3RZj"
      },
      "source": [
        "categ_plot_pie_chart(df_clean, \"nutriscore_grade\", 5)"
      ],
      "execution_count": null,
      "outputs": []
    },
    {
      "cell_type": "code",
      "metadata": {
        "id": "2uVTMiCeKj95"
      },
      "source": [
        "categ_plot_bar_chart(df_clean, \"nutriscore_grade\", 5)"
      ],
      "execution_count": null,
      "outputs": []
    },
    {
      "cell_type": "markdown",
      "metadata": {
        "tags": [
          "body"
        ],
        "id": "XY01gFdo3RZk"
      },
      "source": [
        "Cette variable représente le Nutri-Score (code couleur avec les lettre A, B, C, D ou E) visible sur la plupart des embalages des produits. Le grade **d** semble le plus représenté avec 29% des produits.\n",
        "\n",
        "Le grade le moins représenté est le grade **b** mais il est quand même attribué à environ 54000 produits."
      ]
    },
    {
      "cell_type": "markdown",
      "metadata": {
        "tags": [
          "body"
        ],
        "id": "DXJQAL9y3RZk"
      },
      "source": [
        "### Distribution de la variable `ingredients_text`"
      ]
    },
    {
      "cell_type": "code",
      "metadata": {
        "tags": [
          "body"
        ],
        "id": "3Qunh3RO3RZl"
      },
      "source": [
        "# On charge le DataFrame créé lors du nettoyage des données et\n",
        "# où on avait explosé la liste des ingrédients.\n",
        "tmp = pd.read_csv(\"df_clean_ingredients.csv\", low_memory=False)\n",
        "tmp.head(2)\n",
        "\n",
        "get_cat_var_emp_dist_df(tmp, \"ingredient\", k=8)"
      ],
      "execution_count": null,
      "outputs": []
    },
    {
      "cell_type": "markdown",
      "metadata": {
        "tags": [
          "body"
        ],
        "id": "7ayMcAzr3RZm"
      },
      "source": [
        "Les ingrédients les plus utilisés sont le sel, le sucre et l'eau. On remarque que les 6 modalités les plus représentés sont des doublons : les 3 premières sont en anglais et les 3 suivantes sont en français. Ceci illustre bien le fait qu'il y a un gros travail à faire sur les valeurs des ingrédients afin de pouvoir exploiter cette variable. Nous ne l'utiliseront pas pour la suite de cette analyse."
      ]
    },
    {
      "cell_type": "markdown",
      "metadata": {
        "tags": [
          "body"
        ],
        "id": "wm3ltPao3RZn"
      },
      "source": [
        "### Distribution de la variable `additives_fr`"
      ]
    },
    {
      "cell_type": "code",
      "metadata": {
        "tags": [
          "body"
        ],
        "id": "LRu9eWzU3RZn"
      },
      "source": [
        "# On charge le DataFrame créé lors du nettoyage des données et\n",
        "# où on avait explosé la liste des additifs.\n",
        "tmp = pd.read_csv(\"df_clean_additifs.csv\", low_memory=False)\n",
        "tmp.head(2)\n",
        "\n",
        "categ_plot_pie_chart(tmp, \"additif\", 10)"
      ],
      "execution_count": null,
      "outputs": []
    },
    {
      "cell_type": "code",
      "metadata": {
        "id": "iJR1h_dPK7In"
      },
      "source": [
        "categ_plot_bar_chart(tmp, \"additif\", 20, log=True)"
      ],
      "execution_count": null,
      "outputs": []
    },
    {
      "cell_type": "markdown",
      "metadata": {
        "tags": [
          "body"
        ],
        "id": "vRJ9OSVG3RZo"
      },
      "source": [
        "L'additif le plus utilisé est l'acide citrique qui est présent dans 8% des produits ayant des additifs. Ceci n'est pas étonnant puisqu'il s'agit d'un assaisonnement très fréquemment utilisé en cuisine (par exemple via l'utilisation du ju de citron)."
      ]
    },
    {
      "cell_type": "code",
      "metadata": {
        "tags": [
          "body"
        ],
        "id": "bUIx2_Zo3RZp"
      },
      "source": [
        "pct = df_clean[df_clean[\"additives_n\"] > 0].shape[0] * 100 / df_clean.shape[0]\n",
        "\n",
        "print_md(f\"\"\"Il est a noté que les chiffres ci-dessus concernent les produits ayant des additifs, \n",
        "soit {int(pct)}% des produits du jeu de données.\"\"\")"
      ],
      "execution_count": null,
      "outputs": []
    },
    {
      "cell_type": "markdown",
      "metadata": {
        "tags": [
          "body"
        ],
        "id": "JfKAEXgr3RZp"
      },
      "source": [
        "### Distribution de la variable `allergens`"
      ]
    },
    {
      "cell_type": "code",
      "metadata": {
        "tags": [
          "body"
        ],
        "id": "ieOuySMv3RZq"
      },
      "source": [
        "# On charge le DataFrame créé lors du nettoyage des données et\n",
        "# où on avait explosé la liste des allergènes.\n",
        "tmp = pd.read_csv(\"df_clean_allergens.csv\", low_memory=False)\n",
        "tmp.head(2)\n",
        "\n",
        "get_cat_var_emp_dist_df(tmp, \"allergen\", k=6)"
      ],
      "execution_count": null,
      "outputs": []
    },
    {
      "cell_type": "markdown",
      "metadata": {
        "tags": [
          "body"
        ],
        "id": "kaktx4tG3RZr"
      },
      "source": [
        "29% des allergène sont de type produit laitier. En retrouve ensuite le gluten avec 24% et le soja avec 10% des allergènes."
      ]
    },
    {
      "cell_type": "code",
      "metadata": {
        "tags": [
          "body"
        ],
        "id": "BFq5suoF3RZr"
      },
      "source": [
        "pct = df_clean[df_clean[\"allergens_n\"] > 0].shape[0] * 100 / df_clean.shape[0]\n",
        "\n",
        "print_md(f\"\"\"Il est a noté que les chiffres ci-dessus concernent les produits ayant des allergènes, \n",
        "soit {int(pct)}% des produits du jeu de données.\"\"\")"
      ],
      "execution_count": null,
      "outputs": []
    },
    {
      "cell_type": "markdown",
      "metadata": {
        "id": "NG9oQcVq3RZs"
      },
      "source": [
        "### Comparaison entre la France et les US"
      ]
    },
    {
      "cell_type": "markdown",
      "metadata": {
        "tags": [
          "body"
        ],
        "id": "JnJdMMYL3RZt"
      },
      "source": [
        "Les 2 pays les plus représentés sont la France et les US. Continuons notre analyse en observant les différences des distributions entre ces 2 pays.\n",
        "\n",
        "### Evolution du nombre de produits ajoutés dans le jeu de données"
      ]
    },
    {
      "cell_type": "code",
      "metadata": {
        "tags": [
          "body"
        ],
        "id": "VrfzDXG93RZu"
      },
      "source": [
        "fig, ax = plt.subplots(figsize=(16, 10))\n",
        "\n",
        "for p in [\"États-Unis\", \"France\"]:\n",
        "    # On récupère les produits vendus dans le pays p\n",
        "    tmp = df_clean[df_clean[\"countries_fr\"] == p][[\"last_modified_t\"]]. \\\n",
        "        sort_values(\"last_modified_t\").copy()\n",
        "    \n",
        "    # On ajoute le nombre de produits présents à chaque date\n",
        "    tmp[p] = 1\n",
        "    tmp[p] = tmp[p].cumsum()\n",
        "    \n",
        "    tmp = tmp.set_index(\"last_modified_t\")\n",
        "    \n",
        "    tmp.plot(ax=ax)\n",
        "\n",
        "ax.set_title(\"Evolutions du nombre de produits ajoutés dans le jeu de données par pays de vente\")\n",
        "ax.set_xlabel(\"Date\")\n",
        "ax.set_ylabel(\"Nombre total de produits\")\n",
        "ax.set_yscale(\"log\")\n",
        "    \n",
        "# plt.savefig('Evolutions du nombre de produits ajoutés dans le jeu de données par pays de vente.png', bbox_inches='tight')\n",
        "plt.show()"
      ],
      "execution_count": null,
      "outputs": []
    },
    {
      "cell_type": "markdown",
      "metadata": {
        "tags": [
          "body"
        ],
        "id": "4ePwiE6M3RZv"
      },
      "source": [
        "Les premiers produits français ont été ajouté en 2012. Depuis, il y a eu des ajout de produits réguliers qui suivent une courbre exponentielle (l'échelle des ordonnées est en log).\n",
        "\n",
        "Les premiers produits des US ont été ajoutés en 2015. On observe des pics d'ajouts de produits. Il s'agit certainement d'upload de données venant d'une autre base de données.\n",
        "\n",
        "Les produits et leurs compositions changent régulièrement. Pour cette partie de l'analyse, nous allons donc comparer les produits ajoutés à partir de 2015. Nous allons aussi prendre au hazard 2000 produits dans chaque catégorie de produits de la variable `pnns_groups_1`."
      ]
    },
    {
      "cell_type": "code",
      "metadata": {
        "tags": [
          "body"
        ],
        "id": "MYnVAlaU3RZw"
      },
      "source": [
        "# On filtre par date de dernière modification du produit et par pays\n",
        "df_sample = df_clean[df_clean[\"last_modified_t\"].dt.year >= 2015]\n",
        "df_sample = df_sample[df_sample[\"countries_fr\"].isin([\"France\", \"États-Unis\"])]\n",
        "\n",
        "# On va prendre au hazard 2000 produits dans chaque catégorie de produits\n",
        "df_sample = df_sample.groupby(\n",
        "    [\"countries_fr\", \"pnns_groups_1\"],\n",
        "    group_keys=False\n",
        ").apply(lambda x: x.sample(min(len(x), 2000)))\n",
        "\n",
        "outs = []\n",
        "\n",
        "# On affiche les distribution empirique des catégories de produits\n",
        "for p in [\"France\", \"États-Unis\"]:\n",
        "    outs.append(widgets.Output())\n",
        "\n",
        "    with outs[-1]:\n",
        "        tmp = get_cat_var_emp_dist_df(\n",
        "            df_sample[df_sample[\"countries_fr\"] == p],\n",
        "            \"pnns_groups_1\"\n",
        "        )\n",
        "\n",
        "        print_md(f\"<center>Distribution empirique des </br>modalités de pnns_groups_1 dans le pays {p}</center>\")\n",
        "        display(tmp)\n",
        "\n",
        "hbox = widgets.HBox(outs)\n",
        "hbox.layout.justify_content=\"space-around\"\n",
        "\n",
        "display(hbox)"
      ],
      "execution_count": null,
      "outputs": []
    },
    {
      "cell_type": "markdown",
      "metadata": {
        "tags": [
          "body"
        ],
        "id": "5-B5WggJ3RZx"
      },
      "source": [
        "### Répartition des nutriments"
      ]
    },
    {
      "cell_type": "code",
      "metadata": {
        "scrolled": false,
        "tags": [
          "body"
        ],
        "id": "i9Q86xxg3RZx"
      },
      "source": [
        "def num_box_chart(\n",
        "        df,\n",
        "        num_cols,\n",
        "        cat_col,\n",
        "        cat_include,\n",
        "        title=\"\",\n",
        "        xlabel=\"\",\n",
        "        ylabel=\"\",\n",
        "        save=False\n",
        "    ):\n",
        "    # On filtre les données numériques et la catégorie qui nous intéresse\n",
        "    tmp = df[df[cat_col].isin(cat_include)][num_cols + [cat_col]]\n",
        "\n",
        "    # On transforme les colonnes numériques en catégorie\n",
        "    tmp = tmp.melt(\n",
        "        id_vars=cat_col,\n",
        "        var_name=xlabel,\n",
        "        value_name=ylabel\n",
        "    )\n",
        "\n",
        "    fig, ax = plt.subplots(figsize=(16, 10))\n",
        "    \n",
        "    meanprops = {\n",
        "        'marker':'o',\n",
        "        'markeredgecolor':'black',\n",
        "        'markerfacecolor':'firebrick'\n",
        "    }\n",
        "\n",
        "    sns.boxplot(\n",
        "        data=tmp,\n",
        "        x=xlabel,\n",
        "        y=ylabel,\n",
        "        hue=cat_col,\n",
        "        showfliers=False,\n",
        "        showmeans=True,\n",
        "        meanprops=meanprops,\n",
        "        ax=ax\n",
        "    )\n",
        "    \n",
        "    ax.set_title(title)\n",
        "    ax.set_xlabel(\"\")\n",
        "\n",
        "    if save:\n",
        "        plt.savefig(f\"{title}.png\", bbox_inches='tight')\n",
        "    \n",
        "    plt.show()\n",
        "\n",
        "num_cols = [\n",
        "    \"fat_100g\",\n",
        "    \"saturated-fat_100g\",\n",
        "    \"carbohydrates_100g\",\n",
        "    \"sugars_100g\",\n",
        "    \"proteins_100g\",\n",
        "    \"salt_100g\"\n",
        "]\n",
        "\n",
        "cat_col = \"countries_fr\"\n",
        "cat_include = [\"États-Unis\", \"France\"]\n",
        "\n",
        "num_box_chart(\n",
        "    df_sample,\n",
        "    num_cols=num_cols,\n",
        "    cat_col=cat_col,\n",
        "    cat_include=cat_include,\n",
        "    title=\"Répartition des nutriments par pays\",\n",
        "    xlabel=\"type de nutriment\",\n",
        "    ylabel=\"nutriments en g\",\n",
        "#     save=True\n",
        ")"
      ],
      "execution_count": null,
      "outputs": []
    },
    {
      "cell_type": "markdown",
      "metadata": {
        "tags": [
          "body"
        ],
        "id": "5WRGGfZl3RZ0"
      },
      "source": [
        "On constate que les répartition des proportions entre les différents types de nutriments sont similaires entre les 2 pays.\n",
        "\n",
        "On notera qu'il y a une plus grande proportion de produits aux US qui contiennent plus de glucides qu'en France."
      ]
    },
    {
      "cell_type": "markdown",
      "metadata": {
        "tags": [
          "body"
        ],
        "id": "UyY8mwAq3RZ1"
      },
      "source": [
        "### Répartition du nombre d'ingrédients"
      ]
    },
    {
      "cell_type": "code",
      "metadata": {
        "scrolled": false,
        "tags": [
          "body"
        ],
        "id": "rERxvuTu3RZ1"
      },
      "source": [
        "num_cols = [\n",
        "    \"ingredients_n\",\n",
        "]\n",
        "\n",
        "cat_col = \"countries_fr\"\n",
        "cat_include = [\"États-Unis\", \"France\"]\n",
        "\n",
        "num_box_chart(\n",
        "    df_sample,\n",
        "    num_cols=num_cols,\n",
        "    cat_col=cat_col,\n",
        "    cat_include=cat_include,\n",
        "    title=\"Répartition du nombre d'ingrédients par pays\",\n",
        "    xlabel=\"ingrédients\",\n",
        "    ylabel=\"nombre d'ingrédients\"\n",
        ")"
      ],
      "execution_count": null,
      "outputs": []
    },
    {
      "cell_type": "markdown",
      "metadata": {
        "tags": [
          "body"
        ],
        "id": "Sgb9zOp-3RZ2"
      },
      "source": [
        "On constate qu'il y a un peu plus d'ingrédients dans les produits vendus aux US qu'en France :\n",
        "- Aux **US**, 75% des produits ont moins de **19 ingrédients**.\n",
        "- En **France** 75% des produits ont moins de **14 ingrédients**."
      ]
    },
    {
      "cell_type": "markdown",
      "metadata": {
        "tags": [
          "body"
        ],
        "id": "TyS8sMwO3RZ3"
      },
      "source": [
        "### Répartition du nombre d'additifs et d'allergènes"
      ]
    },
    {
      "cell_type": "code",
      "metadata": {
        "scrolled": false,
        "tags": [
          "body"
        ],
        "id": "9fKAtgOq3RZ4"
      },
      "source": [
        "num_cols = [\n",
        "    \"additives_n\",\n",
        "    \"additifs_n_risque_faible\",\n",
        "    \"additifs_n_risque_moyen\",\n",
        "    \"additifs_n_risque_eleve\",\n",
        "    \"allergens_n\",\n",
        "]\n",
        "\n",
        "cat_col = \"countries_fr\"\n",
        "cat_include = [\"États-Unis\", \"France\"]\n",
        "\n",
        "num_box_chart(\n",
        "    df_sample,\n",
        "    num_cols=num_cols,\n",
        "    cat_col=cat_col,\n",
        "    cat_include=cat_include,\n",
        "    title=\"Répartition du nombre d'additifs et d'allergènes par pays\",\n",
        "    xlabel=\"additifs et allergènes\",\n",
        "    ylabel=\"nombre d'additifs ou d'allergènes\",\n",
        "#     save=True\n",
        ")"
      ],
      "execution_count": null,
      "outputs": []
    },
    {
      "cell_type": "markdown",
      "metadata": {
        "tags": [
          "body"
        ],
        "id": "t3ejWacA3RZ5"
      },
      "source": [
        "25% des produits vendus en France ont au moins 1 allergène."
      ]
    },
    {
      "cell_type": "markdown",
      "metadata": {
        "id": "mye9K2WJ3RZ5"
      },
      "source": [
        "# Analyse multivariée"
      ]
    },
    {
      "cell_type": "markdown",
      "metadata": {
        "tags": [
          "orientation=rows"
        ],
        "id": "bd23weZz3RZ6"
      },
      "source": [
        "## Section"
      ]
    },
    {
      "cell_type": "markdown",
      "metadata": {
        "id": "LQz_93qN3RZ6"
      },
      "source": [
        "### Correlation entre `nutriscore_score` et `nutriscore_grade`"
      ]
    },
    {
      "cell_type": "code",
      "metadata": {
        "tags": [
          "body"
        ],
        "id": "BZTcfdcG3RZ7"
      },
      "source": [
        "num_categ_box_chart(\n",
        "    df_clean,\n",
        "    \"nutriscore_score\",\n",
        "    \"nutriscore_grade\",\n",
        "    title=\"Répartition des valeurs de nutriscore_score en fonction de nutriscore_grade\",\n",
        "    xlabel=\"Nutri-Score\",\n",
        "    ylabel=\"Score\"\n",
        ")"
      ],
      "execution_count": null,
      "outputs": []
    },
    {
      "cell_type": "markdown",
      "metadata": {
        "tags": [
          "body"
        ],
        "id": "lFkv7lXx3RZ7"
      },
      "source": [
        "Il semble effectivement qu'il y ait une relation linéaire entre `nutriscore_score` et `nutriscore_grade`.\n",
        "\n",
        "Nous allons effectuer une analyse de la variance (ANOVA) afin de quantifier cette corrélation."
      ]
    },
    {
      "cell_type": "code",
      "metadata": {
        "tags": [
          "body"
        ],
        "id": "XcBd_PFm3RZ8"
      },
      "source": [
        "# Rapport de corrélation\n",
        "def eta_squared(df, x, y):\n",
        "    tmp = df.dropna(subset=[x, y])\n",
        "    x, y = tmp[x], tmp[y]\n",
        "    \n",
        "    moyenne_y = y.mean()\n",
        "    classes = []\n",
        "    for classe in x.unique():\n",
        "        yi_classe = y[x==classe]\n",
        "        classes.append({'ni': len(yi_classe),\n",
        "                        'moyenne_classe': yi_classe.mean()})\n",
        "    # Variation totale\n",
        "    SCT = sum([(yj-moyenne_y)**2 for yj in y])\n",
        "    \n",
        "    # Variation interclasse\n",
        "    SCE = sum([c['ni']*(c['moyenne_classe']-moyenne_y)**2 for c in classes])\n",
        "    \n",
        "    return SCE/SCT\n",
        "    \n",
        "c = eta_squared(df_clean, \"nutriscore_grade\", \"nutriscore_score\")\n",
        "print_md(f\"Le rapport de correlation entre `nutriscore_score` et `nutriscore_grade` est de : **{c:0.2f}**\")"
      ],
      "execution_count": null,
      "outputs": []
    },
    {
      "cell_type": "markdown",
      "metadata": {
        "tags": [
          "body"
        ],
        "id": "3q-1WMEl3RZ9"
      },
      "source": [
        "Il y a clairement une forte correlation entre ces 2 variables.\n",
        "\n",
        "On remarque cepdendant la présence d'outliers, notamment pour les nutriscore de grade **a** et **b**. Voyons quelques exemples de ces produits :"
      ]
    },
    {
      "cell_type": "code",
      "metadata": {
        "tags": [
          "body"
        ],
        "id": "05qz7DvO3RZ9"
      },
      "source": [
        "cols = [\n",
        "    \"product_name\",\n",
        "    \"countries_fr\",\n",
        "    \"pnns_groups_1\",\n",
        "    \"nutriscore_grade\",\n",
        "    \"nutriscore_score\",\n",
        "    \"ingredients_text\"\n",
        "]\n",
        "\n",
        "df_clean[(df_clean[\"nutriscore_grade\"] == \"a\") & (df_clean[\"nutriscore_score\"] > 4)][cols]"
      ],
      "execution_count": null,
      "outputs": []
    },
    {
      "cell_type": "markdown",
      "metadata": {
        "tags": [
          "body"
        ],
        "id": "449pUSsK3RZ-"
      },
      "source": [
        "On remarque que la plupart des outliers du grade **a** sont des eaux minérales ([en savoir plus sur le calcul du Nutri-Score](https://www.santepubliquefrance.fr/determinants-de-sante/nutrition-et-activite-physique/articles/nutri-score))."
      ]
    },
    {
      "cell_type": "markdown",
      "metadata": {
        "id": "lHdEgofQ3RZ_"
      },
      "source": [
        "### Analyse des correlations"
      ]
    },
    {
      "cell_type": "markdown",
      "metadata": {
        "tags": [
          "body"
        ],
        "id": "45nLRD4b3RZ_"
      },
      "source": [
        "### Correlations entre les variables de type numérique et les variables de type catégorie"
      ]
    },
    {
      "cell_type": "code",
      "metadata": {
        "tags": [
          "body"
        ],
        "id": "dwMOsakS3RaA"
      },
      "source": [
        "rows = [\n",
        "    \"nutriscore_grade\",\n",
        "    \"pnns_groups_1\",\n",
        "    \"pnns_groups_2\",\n",
        "]\n",
        "\n",
        "cols = [\n",
        "    \"nutriscore_score\",\n",
        "    \"ingredients_n\",\n",
        "    \"additives_n\",\n",
        "    \"additifs_n_risque_faible\",\n",
        "    \"additifs_n_risque_moyen\",\n",
        "    \"additifs_n_risque_eleve\",\n",
        "    \"allergens_n\",\n",
        "    \"energy_100g\",\n",
        "    \"fat_100g\",\n",
        "    \"saturated-fat_100g\",\n",
        "    \"carbohydrates_100g\",\n",
        "    \"sugars_100g\",\n",
        "    \"proteins_100g\",\n",
        "    \"salt_100g\",\n",
        "]\n",
        "\n",
        "data = {}\n",
        "\n",
        "for r in rows:\n",
        "    data[r] = []\n",
        "    for c in cols:\n",
        "        es = eta_squared(df_clean, r, c)\n",
        "        data[r].append(es)\n",
        "\n",
        "tmp = pd.DataFrame.from_dict(data, orient='index', columns=cols)\n",
        "\n",
        "fig, ax = plt.subplots(figsize=(6, 6))\n",
        "\n",
        "sns.heatmap(tmp.T, annot=True, ax=ax)\n",
        "\n",
        "ax.set_title(\"Matrice des corrélations entre les variables de type numérique et 3 variables de type catégorie\")\n",
        "\n",
        "plt.show()"
      ],
      "execution_count": null,
      "outputs": []
    },
    {
      "cell_type": "markdown",
      "metadata": {
        "tags": [
          "body"
        ],
        "id": "_sDbc45F3RaB"
      },
      "source": [
        "On observe des correlations modérées entre `nutriscore_score`, `energy_100g`, `carbohydrates_100g` et les catégorie de produits. On remarque que plus on a de modalités dans les catégories (`pnns_groups_2`), plus ces correlations sont fortes.\n",
        "\n",
        "Cela semble cohérent car certaines catégories de produits, comme les snacks sucrés, vont avoir une énergie aux 100g très élevée et un nutriscore très mauvais. Alors que des catégories comme les fruits et les légumes vont certainement regrouper des produits ayant une énergie aux 100g faible et un très bon nutriscore."
      ]
    },
    {
      "cell_type": "code",
      "metadata": {
        "tags": [
          "body"
        ],
        "id": "eF0Q68dn3RaB"
      },
      "source": [
        "num_categ_box_chart(\n",
        "    df_clean,\n",
        "    \"energy_100g\",\n",
        "    \"pnns_groups_1\",\n",
        "    title=\"Répartition des valeurs de energy_100g en fonction de pnns_groups_1\",\n",
        "    xlabel=\"Catégorie des produits\",\n",
        "    ylabel=\"Energie en kJ\",\n",
        "    showfliers=False,\n",
        "    rotation=30\n",
        ")"
      ],
      "execution_count": null,
      "outputs": []
    },
    {
      "cell_type": "markdown",
      "metadata": {
        "tags": [
          "body"
        ],
        "id": "4vYwQeIA3RaC"
      },
      "source": [
        "On constate effectivement que la majorité des fruits et légumes ont une énergie aux 100g assez basse contrairement aux snacks sucrés."
      ]
    },
    {
      "cell_type": "code",
      "metadata": {
        "tags": [
          "body"
        ],
        "id": "3gwKjVYu3RaC"
      },
      "source": [
        "num_categ_box_chart(\n",
        "    df_clean,\n",
        "    \"nutriscore_score\",\n",
        "    \"pnns_groups_1\",\n",
        "    title=\"Répartition des valeurs de nutriscore_score en fonction de pnns_groups_1\",\n",
        "    xlabel=\"Catégorie des produits\",\n",
        "    ylabel=\"Score de nutrition\",\n",
        "    showfliers=False,\n",
        "    rotation=30\n",
        ")"
      ],
      "execution_count": null,
      "outputs": []
    },
    {
      "cell_type": "markdown",
      "metadata": {
        "tags": [
          "body"
        ],
        "id": "7y-QdhkA3RaD"
      },
      "source": [
        "On constate de même que le nutriscore de la majorité des fruits et légumes est bas contrairement à celui des snacks sucrés."
      ]
    },
    {
      "cell_type": "markdown",
      "metadata": {
        "tags": [
          "body"
        ],
        "id": "G21Tv2nh3RaE"
      },
      "source": [
        "### Correlations entre les variables de type numérique"
      ]
    },
    {
      "cell_type": "code",
      "metadata": {
        "scrolled": false,
        "tags": [
          "body"
        ],
        "id": "2zPrgJyP3RaF"
      },
      "source": [
        "cols = [\n",
        "    \"nutriscore_score\",\n",
        "    \"ingredients_n\",\n",
        "    \"additives_n\",\n",
        "    \"additifs_n_risque_faible\",\n",
        "    \"additifs_n_risque_moyen\",\n",
        "    \"additifs_n_risque_eleve\",\n",
        "    \"allergens_n\",\n",
        "    \"energy_100g\",\n",
        "    \"fat_100g\",\n",
        "    \"saturated-fat_100g\",\n",
        "    \"carbohydrates_100g\",\n",
        "    \"sugars_100g\",\n",
        "    \"proteins_100g\",\n",
        "    \"salt_100g\",\n",
        "]\n",
        "\n",
        "corr = df_clean[cols].corr()\n",
        "\n",
        "fig, ax = plt.subplots(figsize=(14, 12))\n",
        "\n",
        "sns.heatmap(corr, annot=True, ax=ax)\n",
        "ax.set_title(\"Matrice des correlations des variables de type numérique\")\n",
        "\n",
        "plt.show()"
      ],
      "execution_count": null,
      "outputs": []
    },
    {
      "cell_type": "markdown",
      "metadata": {
        "tags": [
          "body"
        ],
        "id": "0627PrM43RaG"
      },
      "source": [
        "Les coefficients de correlation ci-dessus nous donne les informations suivantes :\n",
        "- Correlation positive élevée entre le nombre d'ingrédients et le nombre d'additifs\n",
        "- Correlation positive élevée entre le nombre d'additifs et le nombre d'additifs ayant un risque élevé pour la santé\n",
        "- Corrélations positives modérées entre le score de nutrition et :\n",
        "    - L'énergie aux 100g\n",
        "    - Les matières grasses\n",
        "    - Les matières grasses saturées\n",
        "    - Les sucres"
      ]
    },
    {
      "cell_type": "markdown",
      "metadata": {
        "tags": [
          "body"
        ],
        "id": "zccS1Fry3RaG"
      },
      "source": [
        "### Correlations entre les variables de type catégorie"
      ]
    },
    {
      "cell_type": "code",
      "metadata": {
        "tags": [
          "body"
        ],
        "id": "atE7h1tQ3RaH"
      },
      "source": [
        "def corr_cat_cat_heatmap(df, c1, c2, title):\n",
        "    # On supprimes les individus ayant des valeurs manquantes\n",
        "    tmp = df.dropna(subset=[c1, c2])\n",
        "\n",
        "    # On crée le tableau de contingence\n",
        "    cont = tmp[[c1, c2]].pivot_table(\n",
        "        index=c1,\n",
        "        columns=c2,\n",
        "        aggfunc=len,\n",
        "        margins=True,\n",
        "        margins_name=\"Total\",\n",
        "    )\n",
        "    cont\n",
        "\n",
        "    tx = cont.loc[:,[\"Total\"]]\n",
        "    ty = cont.loc[[\"Total\"],:]\n",
        "    n = len(tmp)\n",
        "    indep = tx.dot(ty) / n\n",
        "\n",
        "    c = cont.fillna(0) # On remplace les valeurs nulles par 0\n",
        "    measure = (c - indep) ** 2 / indep\n",
        "    xi_n = measure.sum().sum()\n",
        "    table = measure / xi_n\n",
        "    \n",
        "    h = 0.6 * len(cont)\n",
        "    fig, ax = plt.subplots(figsize=(14, h))\n",
        "    \n",
        "    sns.heatmap(table.iloc[:-1,:-1], annot=c.iloc[:-1,:-1], ax=ax)\n",
        "#     sns.heatmap(table.iloc[:-1,:-1], annot=table.iloc[:-1,:-1], ax=ax)\n",
        "    \n",
        "    ax.set_title(title)\n",
        "    \n",
        "    plt.show()\n",
        "\n",
        "corr_cat_cat_heatmap(\n",
        "    df_clean,\n",
        "    \"pnns_groups_1\",\n",
        "    \"nutriscore_grade\",\n",
        "    \"Matrice des correlations entre les modalités des variables pnns_groups_1 et nutriscore_grade\"\n",
        ")"
      ],
      "execution_count": null,
      "outputs": []
    },
    {
      "cell_type": "markdown",
      "metadata": {
        "tags": [
          "body"
        ],
        "id": "3C_Q623x3RaI"
      },
      "source": [
        "Comme nous l'avons supposé, on observe effectivement des correlations entre les catégories des produits et le Nutri-Score. On remarquera notamment :\n",
        "- Corrélation entre la catégorie **céréales et pommes de terre** et le Nutri-Score **a**.\n",
        "- Corrélation entre la catégorie **Fruits et légumes** et le Nutri-Score **a**.\n",
        "- Corrélation entre la catégorie **Snacks sucrés** et le Nutri-Score **e**.\n",
        "\n",
        "Il est aussi intéressant de constater qu'il y a des produits du type **Fruits et légumes** qui ont un grade **d** ! Observons quelques-un des ces produits :"
      ]
    },
    {
      "cell_type": "code",
      "metadata": {
        "tags": [
          "body"
        ],
        "id": "LDHFRCxi3RaI"
      },
      "source": [
        "cols = [\n",
        "    \"product_name\",\n",
        "    \"countries_fr\",\n",
        "    \"pnns_groups_1\",\n",
        "    \"nutriscore_grade\",\n",
        "    \"ingredients_text\",\n",
        "    \"energy_100g\",\n",
        "]\n",
        "\n",
        "df_clean[(df_clean[\"pnns_groups_1\"] == \"Fruits and vegetables\") & (df_clean[\"nutriscore_grade\"] == \"d\")][cols]"
      ],
      "execution_count": null,
      "outputs": []
    },
    {
      "cell_type": "markdown",
      "metadata": {
        "tags": [
          "body"
        ],
        "id": "8gYRxuvz3RaJ"
      },
      "source": [
        "Il sagit de produits riches (comme les oléagineux) mais constitués principalement de fruits et de légumes."
      ]
    },
    {
      "cell_type": "markdown",
      "metadata": {
        "id": "fA6xpcVh3RaJ"
      },
      "source": [
        "### Analyse en composantes principales (ACP) "
      ]
    },
    {
      "cell_type": "code",
      "metadata": {
        "tags": [
          "body"
        ],
        "id": "n_f5L0i03RaK"
      },
      "source": [
        "cols = [\n",
        "    \"nutriscore_score\",\n",
        "\n",
        "    \"ingredients_n\",\n",
        "    \"additives_n\",\n",
        "    \"additifs_n_risque_faible\",\n",
        "    \"additifs_n_risque_moyen\",\n",
        "    \"additifs_n_risque_eleve\",\n",
        "    \"allergens_n\",\n",
        "\n",
        "    \"energy_100g\",\n",
        "    \"fat_100g\",\n",
        "    \"saturated-fat_100g\",\n",
        "    \"carbohydrates_100g\",\n",
        "    \"sugars_100g\",\n",
        "    \"fiber_100g\",\n",
        "    \"proteins_100g\",\n",
        "    \"salt_100g\",\n",
        "    \n",
        "    \"pn_beverages\",\n",
        "    \"pn_cereals_and_potatoes\",\n",
        "    \"pn_composite_foods\",\n",
        "    \"pn_fat_and_sauces\",\n",
        "    \"pn_fish_meat_eggs\",\n",
        "    \"pn_fruits_and_vegetables\",\n",
        "    \"pn_milk_and_dairy_products\",\n",
        "    \"pn_salty_snacks\",\n",
        "    \"pn_sugary_snacks\",\n",
        "]\n",
        "\n",
        "# On ne conserve que les individus ayant toutes les valeurs des variables ci-dessus\n",
        "acp_df = df_clean.dropna(subset=cols)"
      ],
      "execution_count": null,
      "outputs": []
    },
    {
      "cell_type": "code",
      "metadata": {
        "tags": [
          "body"
        ],
        "id": "iFjEK2er3RaL"
      },
      "source": [
        "X = acp_df[cols].values\n",
        "names = acp_df[\"code\"].to_numpy()\n",
        "features = cols\n",
        "\n",
        "# On transforme nos variables en variables centrées réduites\n",
        "std_scale = preprocessing.StandardScaler().fit(X)\n",
        "X_scaled = std_scale.transform(X)"
      ],
      "execution_count": null,
      "outputs": []
    },
    {
      "cell_type": "code",
      "metadata": {
        "tags": [
          "body"
        ],
        "id": "wHXGPPkG3RaL"
      },
      "source": [
        "# On réalise une PCA\n",
        "pca = decomposition.PCA(n_components=len(features), random_state=0)\n",
        "pca.fit(X_scaled)\n",
        "\n",
        "# On récupère le ratio de l'inertie de chaque axe d'inertie\n",
        "evrs = pca.explained_variance_ratio_\n",
        "\n",
        "# On crée et on affiche le diagramme des éboulis de valeurs propres\n",
        "fig, ax = plt.subplots(figsize=(16,10))\n",
        "\n",
        "ax.set_title(\"Diagramme des éboulis de valeurs propres avec somme cumulée\")\n",
        "ax.set_xlabel(\"Rang de l'axe d'inertie\")\n",
        "ax.set_ylabel(\"Taux d'inertie\")\n",
        "\n",
        "ax.bar(np.arange(len(evrs)) + 1, evrs)\n",
        "l1 = ax.plot(np.arange(len(evrs)) + 1, evrs.cumsum(), c=\"red\", marker='o', label=\"Inertie cumulée\")[0]\n",
        "\n",
        "# Ligne représentant le critère de Kaiser\n",
        "k = 1 / len(features)\n",
        "l2 = ax.axhline(k, color=\"grey\", ls=\"--\", alpha=0.7, label=\"Critère de Kaiser\")\n",
        "\n",
        "# On ajoute le taux d'inertie\n",
        "for i, evr in enumerate(evrs):\n",
        "    if evr > k:\n",
        "        ax.text(i + 0.65, evr + .02, f\"{evr:0.2f}\")\n",
        "        \n",
        "plt.legend(handles=[l1, l2], loc='upper left')\n",
        "\n",
        "plt.show()"
      ],
      "execution_count": null,
      "outputs": []
    },
    {
      "cell_type": "markdown",
      "metadata": {
        "tags": [
          "body"
        ],
        "id": "buAT-bB_3RaM"
      },
      "source": [
        "Les 4 premiers axes d'inertie permettent d'expliquer 42% de la variance totale. Les autres axes ont un taux d'intertie trop faible et qui passe rapidement en dessous du critère de Kaiser.\n",
        "\n",
        "Nous allons continuer cette ACP avec les 4 premiers axes d'inertie F1, F2, F3 et F4. Commençons par observer nos variables projectées sur le 1er plan factoriel (F2, F1)."
      ]
    },
    {
      "cell_type": "code",
      "metadata": {
        "tags": [
          "body"
        ],
        "id": "CWDUDS7S3RaN"
      },
      "source": [
        "def pca_plot_var(pcs, x_idx, y_idx, circle=False):\n",
        "    # On affiche le cercle de corrélation de chaque plan factoriel\n",
        "    fig, ax = plt.subplots(figsize=(14, 14))\n",
        "\n",
        "    for j, (x, y) in enumerate(zip(pcs[x_idx, :], pcs[y_idx, :])):\n",
        "        ax.plot([0, x], [0, y], color=\"grey\", alpha=0.7)\n",
        "        plt.text(x, y, cols[j], fontsize=14)\n",
        "\n",
        "    if circle:\n",
        "        ax.add_patch(plt.Circle((0, 0), 1, color=\"grey\", alpha=0.7, fill=False))\n",
        "    \n",
        "    ax.axhline(0, color=\"grey\", ls=\"--\", alpha=0.5)\n",
        "    ax.axvline(0, color=\"grey\", ls=\"--\", alpha=0.5)\n",
        "\n",
        "    ax.set_title(f\"Cercle des corrélations sur le plan factoriel (F{x_idx + 1}, F{y_idx + 1})\")\n",
        "    ax.set_xlabel(f\"F{x_idx + 1} ({evrs[x_idx] * 100: 0.1f}%)\")\n",
        "    ax.set_ylabel(f\"F{y_idx + 1} ({evrs[y_idx] * 100: 0.1f}%)\")\n",
        "    \n",
        "    ax.set_aspect(\"equal\")\n",
        "\n",
        "    plt.show()\n",
        "\n",
        "pcs = pca.components_\n",
        "X_projected = pca.transform(X_scaled)\n",
        "    \n",
        "pca_plot_var(pcs, 1, 0)"
      ],
      "execution_count": null,
      "outputs": []
    },
    {
      "cell_type": "markdown",
      "metadata": {
        "tags": [
          "body"
        ],
        "id": "nm6k_0WU3RaO"
      },
      "source": [
        "On constate que les variables qui contribuent le plus à F1 sont `energy_100g`, `nutriscore_score`. On retrouve ensuite `pn_sugary_snacks`, `saturated-fat_100g` et `fat_100g`. On ramqaure que `pn_fruits_and_vegetables` apporte une faible contribution négative. F1 pourrait donc représenter la notion de richesse énergétique d'un produit en termes de matières grasses et de sucres.\n",
        "\n",
        "F2 augmente avec `additives_n` et diminue avec `fat_100g`, `saturated-fat_100g` et `proteins_100g`. F2 pourrait ainsi représenter les additifs qui feraient diminuer la quantité de matières grasses. F2 pourrait aussi simplement représenter les produits qui se différencie ou non des huiles qui sont des produits riches et ayant peu d'ingrédients.\n",
        "\n",
        "Voyons maintenant la projection des variables initiales sur (F4, F3)"
      ]
    },
    {
      "cell_type": "code",
      "metadata": {
        "tags": [
          "body"
        ],
        "id": "vyIxZpgr3RaP"
      },
      "source": [
        "pca_plot_var(pcs, 3, 2)"
      ],
      "execution_count": null,
      "outputs": []
    },
    {
      "cell_type": "markdown",
      "metadata": {
        "tags": [
          "body"
        ],
        "id": "64Xfmz6T3RaQ"
      },
      "source": [
        "F3 augmente avec `ingredients_n` et `pn_composite_foods` et diminue avec `sugars_100g`. F3 semble représenter les produits salés ayant de nombreux ingrédients.\n",
        "\n",
        "F4 augmente un peu avec `additifs_n_risque_faible` et `additifs_n_risque_moyen` et diminue avec `pn_cereals_and_potatoes` et `carbohydrates_100g`. F4 pourrait indiquer la proportion d'additifs qui permettrait de remplacer les glucides."
      ]
    },
    {
      "cell_type": "code",
      "metadata": {
        "tags": [
          "body"
        ],
        "id": "oPhdMCOE3RaR"
      },
      "source": [
        "tmp = acp_df[cols].copy()\n",
        "for i in range(4):\n",
        "    tmp[f\"F{i + 1}\"] = X_projected[:, i]\n",
        "\n",
        "corrMatrix = tmp.corr()\n",
        "\n",
        "fig, ax = plt.subplots(figsize=(14, 14))\n",
        "\n",
        "sns.heatmap(corrMatrix.iloc[:-4, -4:], annot=True, ax=ax)\n",
        "ax.set_title(\"Matrice des corrélation avec les axes d'inertie de l'ACP\")\n",
        "\n",
        "plt.show()"
      ],
      "execution_count": null,
      "outputs": []
    },
    {
      "cell_type": "markdown",
      "metadata": {
        "tags": [
          "body"
        ],
        "id": "v7icN05D3RaS"
      },
      "source": [
        "On peut constater sur la matrice des corrélation ci-dessus, ce que l'on avait observé sur les cercles des corrélations.\n",
        "\n",
        "Nos nouvelles variables F1, F2, F3 et F4 sont des combinaisons linéaires des variables initiales. Les interprétations ci-dessus ne sont que des hypothèses faites à partir de l'observation des poids des variables initiales dans le calcul des variables F1, F2, F3 et F4. On pourrait vérifier ces hypothèses en projetant des individus dans nos plans factoriels. Voyons donc quelques produits projetés sur les 3 premiers axes d'inerties F1, F2 et F3 :"
      ]
    },
    {
      "cell_type": "code",
      "metadata": {
        "tags": [
          "body"
        ],
        "id": "35ilgZeq3RaS"
      },
      "source": [
        "X_projected = pca.transform(X_scaled)\n",
        "\n",
        "# On crée un DataFrame avec nos individus et en leurs ajoutant les variables F1, F2 et F3\n",
        "tmp = pd.DataFrame(X_projected[:, :3], columns=[f\"F{i + 1}\" for i in range(3)])\n",
        "tmp[\"nutriscore_grade\"] = acp_df[\"nutriscore_grade\"].values\n",
        "tmp[\"pnns_groups_1\"] = acp_df[\"pnns_groups_1\"].values\n",
        "tmp = tmp.dropna()\n",
        "\n",
        "# On va prendre au hazard 100 produits pour chaque Nutri-Score.\n",
        "# Il serait trop lourd d'afficher tous les individus sur un digramme interractif en 3D.\n",
        "tmp = tmp.groupby(\n",
        "    [\"nutriscore_grade\", \"pnns_groups_1\"],\n",
        "    group_keys=False\n",
        ").apply(lambda x: x.sample(min(len(x), 100)))\n",
        "\n",
        "# On affiche les individus en 3D\n",
        "fig = px.scatter_3d(\n",
        "    tmp,\n",
        "    x=\"F1\",\n",
        "    y=\"F2\",\n",
        "    z=\"F3\",\n",
        "    color=\"pnns_groups_1\",\n",
        "    title=f\"Représentation d'un échantillon des individus projetés sur (F1, F2, F3)\"\n",
        ")\n",
        "fig = go.FigureWidget(fig)\n",
        "# display(fig)\n",
        "HTML(fig.to_html())"
      ],
      "execution_count": null,
      "outputs": []
    },
    {
      "cell_type": "markdown",
      "metadata": {
        "tags": [
          "body"
        ],
        "id": "459bYoT_3RaT"
      },
      "source": [
        "En faisant tourner la figure ci-dessus, on remarque que certains groupes de produits sont facilement discernables comme par exemple :\n",
        "- Les poissons, viandes et oeufs.\n",
        "- Les boissons.\n",
        "- Les produits composés.\n",
        "- Les snacks sucrés.\n",
        "\n",
        "Si on prend par exemple les individus extrêmes sur F1, on obtient :\n",
        "- Un fruit ou légume avec une valeur négative sur F1.\n",
        "- Un snack sucré avec une valeur positive sur F1.\n",
        "\n",
        "Cela semble cohérent au vu de l'interprétation de F1 qui indiquerait la richesse énergétique d'un produit en termes de sucres et de matières grasses.\n",
        "\n",
        "Dans le cadre de ce projet, les nouvelles variables crées grâce aux axes d'intertie pourraient servir de filtre lorsque les agents de Santé publique France voudront explorer le jeu de données."
      ]
    }
  ]
}
